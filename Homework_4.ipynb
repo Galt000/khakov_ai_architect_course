{
  "nbformat": 4,
  "nbformat_minor": 0,
  "metadata": {
    "colab": {
      "provenance": []
    },
    "kernelspec": {
      "name": "python3",
      "display_name": "Python 3"
    },
    "language_info": {
      "name": "python"
    }
  },
  "cells": [
    {
      "cell_type": "code",
      "execution_count": 4,
      "metadata": {
        "id": "K3wkzpjX9ycb"
      },
      "outputs": [],
      "source": [
        "#Задача1 Выполнить операции над матрицами\n",
        "import numpy as np"
      ]
    },
    {
      "cell_type": "code",
      "source": [
        "a = np.array([[1, 2, 1], [-2, 1 ,1]])\n",
        "a"
      ],
      "metadata": {
        "id": "IYS7UZAG-nl5",
        "colab": {
          "base_uri": "https://localhost:8080/"
        },
        "outputId": "a04a1a71-c3d1-4809-84b8-2a56bf438ed2"
      },
      "execution_count": 5,
      "outputs": [
        {
          "output_type": "execute_result",
          "data": {
            "text/plain": [
              "array([[ 1,  2,  1],\n",
              "       [-2,  1,  1]])"
            ]
          },
          "metadata": {},
          "execution_count": 5
        }
      ]
    },
    {
      "cell_type": "code",
      "source": [
        "b = np.array([[3, 1], [-1, 0], [2, 4]])\n",
        "b"
      ],
      "metadata": {
        "colab": {
          "base_uri": "https://localhost:8080/"
        },
        "id": "vG7Kt53yD3i9",
        "outputId": "47107909-327e-4988-a28b-c07eddd36bd8"
      },
      "execution_count": 6,
      "outputs": [
        {
          "output_type": "execute_result",
          "data": {
            "text/plain": [
              "array([[ 3,  1],\n",
              "       [-1,  0],\n",
              "       [ 2,  4]])"
            ]
          },
          "metadata": {},
          "execution_count": 6
        }
      ]
    },
    {
      "cell_type": "code",
      "source": [
        "c = np.array([[-2, 2], [1, -1], [1, 2]])\n",
        "c"
      ],
      "metadata": {
        "colab": {
          "base_uri": "https://localhost:8080/"
        },
        "id": "q6Zl0uNnD-js",
        "outputId": "363786c8-ec61-45b0-9361-ef0f3e7eeece"
      },
      "execution_count": 7,
      "outputs": [
        {
          "output_type": "execute_result",
          "data": {
            "text/plain": [
              "array([[-2,  2],\n",
              "       [ 1, -1],\n",
              "       [ 1,  2]])"
            ]
          },
          "metadata": {},
          "execution_count": 7
        }
      ]
    },
    {
      "cell_type": "code",
      "source": [
        "print(a + 2*np.transpose(b))"
      ],
      "metadata": {
        "colab": {
          "base_uri": "https://localhost:8080/"
        },
        "id": "R-HOjpFSEGqU",
        "outputId": "9d83ef2f-8c77-462c-e7ff-e8a72027f406"
      },
      "execution_count": 8,
      "outputs": [
        {
          "output_type": "stream",
          "name": "stdout",
          "text": [
            "[[7 0 5]\n",
            " [0 1 9]]\n"
          ]
        }
      ]
    },
    {
      "cell_type": "code",
      "source": [
        "print(a + 2*np.transpose(c))"
      ],
      "metadata": {
        "colab": {
          "base_uri": "https://localhost:8080/"
        },
        "id": "us2y1sdlEoVX",
        "outputId": "3a910e45-33e5-440a-8826-679c81f8fa0e"
      },
      "execution_count": 9,
      "outputs": [
        {
          "output_type": "stream",
          "name": "stdout",
          "text": [
            "[[-3  4  3]\n",
            " [ 2 -1  5]]\n"
          ]
        }
      ]
    },
    {
      "cell_type": "code",
      "source": [
        "#Задача2 Создать матрицу размером 8х8 элементов, состоящуюизнулей. Заполнить эту матрицу значениями, расположенными в шахматном порядке\n",
        "a = np.zeros((8,8),int)\n",
        "a[::2,::2]=1\n",
        "a[1::2,1::2]=1\n",
        "print(a)\n"
      ],
      "metadata": {
        "colab": {
          "base_uri": "https://localhost:8080/"
        },
        "id": "gnZN6ZA4Ev2n",
        "outputId": "d1907d95-c808-45bf-a837-d205dc2c3725"
      },
      "execution_count": 12,
      "outputs": [
        {
          "output_type": "stream",
          "name": "stdout",
          "text": [
            "[[1 0 1 0 1 0 1 0]\n",
            " [0 1 0 1 0 1 0 1]\n",
            " [1 0 1 0 1 0 1 0]\n",
            " [0 1 0 1 0 1 0 1]\n",
            " [1 0 1 0 1 0 1 0]\n",
            " [0 1 0 1 0 1 0 1]\n",
            " [1 0 1 0 1 0 1 0]\n",
            " [0 1 0 1 0 1 0 1]]\n"
          ]
        }
      ]
    },
    {
      "cell_type": "code",
      "source": [
        "'''Задача3*\n",
        "1.Сформировать два вектора: первый длиной 15 элементов со значениями от 0 до 1,4 с шагом 0,1 ;второй–длиной 6 элементов созначениями от 1 до 6.\n",
        "2.Преобразовать первый вектор в матрицу 5х3,а второй– в матрицу 3х2. Выполнить перемножение этих матриц. Сами матрицы и результат их перемножения вывести на экран.'''\n",
        "import numpy as np\n",
        "\n",
        "\n",
        "a = np.matrix(np.arange(0,1.5,0.1).reshape(5, 3))\n",
        "b = np.matrix(np.arange(6).reshape(3, 2))\n",
        "print(a)\n",
        "print(b)\n",
        "print(a*b)"
      ],
      "metadata": {
        "colab": {
          "base_uri": "https://localhost:8080/"
        },
        "id": "MArtYs4HLlo1",
        "outputId": "697dd5fb-f748-459e-cbec-eff9d4ad344d"
      },
      "execution_count": 13,
      "outputs": [
        {
          "output_type": "stream",
          "name": "stdout",
          "text": [
            "[[0.  0.1 0.2]\n",
            " [0.3 0.4 0.5]\n",
            " [0.6 0.7 0.8]\n",
            " [0.9 1.  1.1]\n",
            " [1.2 1.3 1.4]]\n",
            "[[0 1]\n",
            " [2 3]\n",
            " [4 5]]\n",
            "[[ 1.   1.3]\n",
            " [ 2.8  4. ]\n",
            " [ 4.6  6.7]\n",
            " [ 6.4  9.4]\n",
            " [ 8.2 12.1]]\n"
          ]
        }
      ]
    },
    {
      "cell_type": "code",
      "source": [
        "'''Задача4*\n",
        "1.Сформировать вектор из целых чисел(тип элементов должен быть int32) размерностью 36 и значениями 1,3,5,7, ... и так далее.\n",
        "2.Выделить из этого вектора все элементы со значениями кратными 3. Вывести результат на экран (исходный вектор и с кратными числами).'''\n",
        "\n",
        "import numpy as np\n",
        "\n",
        "a = np.matrix([x for x in range(1,36,2)],np.int32)\n",
        "print(a)\n",
        "b = []\n",
        "x = np.shape(a[0])\n",
        "\n",
        "for x in range(x[1]):\n",
        "  if a[0,x] % 3 == 0:\n",
        "    b.append(a[0,x])\n",
        "print(b)\n",
        "\n",
        "#получилось криво, но работает, был бы рад увидеть правильное и изящное решение данной задачи"
      ],
      "metadata": {
        "colab": {
          "base_uri": "https://localhost:8080/"
        },
        "id": "vNIVioGFtdg_",
        "outputId": "d7712469-a5d8-4467-90ef-bddc341400fe"
      },
      "execution_count": 14,
      "outputs": [
        {
          "output_type": "stream",
          "name": "stdout",
          "text": [
            "[[ 1  3  5  7  9 11 13 15 17 19 21 23 25 27 29 31 33 35]]\n",
            "[3, 9, 15, 21, 27, 33]\n"
          ]
        }
      ]
    },
    {
      "cell_type": "markdown",
      "source": [],
      "metadata": {
        "id": "DjlgPvz81oxI"
      }
    }
  ]
}